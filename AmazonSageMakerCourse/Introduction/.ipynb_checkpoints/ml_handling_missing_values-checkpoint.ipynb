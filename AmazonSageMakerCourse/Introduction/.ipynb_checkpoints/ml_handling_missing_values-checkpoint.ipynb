{
 "cells": [
  {
   "cell_type": "markdown",
   "metadata": {},
   "source": [
    "<h2>Working With Missing Data</h2>\n",
    "<h3>References:</h3>\n",
    "<h3>General techniques</h3>\n",
    "https://pandas.pydata.org/pandas-docs/stable/missing_data.html<br/>\n",
    "<h3>Missing Values in a Timeseries</h3>\n",
    "https://www.kaggle.com/juejuewang/handle-missing-values-in-time-series-for-beginners"
   ]
  },
  {
   "cell_type": "code",
   "execution_count": 1,
   "metadata": {},
   "outputs": [],
   "source": [
    "import pandas as pd\n",
    "import numpy as np\n",
    "import matplotlib.pyplot as plt"
   ]
  },
  {
   "cell_type": "code",
   "execution_count": 4,
   "metadata": {},
   "outputs": [],
   "source": [
    "df = pd.read_csv('VehicleTraffic.csv', parse_dates=[0], index_col=0)"
   ]
  },
  {
   "cell_type": "code",
   "execution_count": 3,
   "metadata": {},
   "outputs": [
    {
     "data": {
      "text/html": [
       "<div>\n",
       "<style scoped>\n",
       "    .dataframe tbody tr th:only-of-type {\n",
       "        vertical-align: middle;\n",
       "    }\n",
       "\n",
       "    .dataframe tbody tr th {\n",
       "        vertical-align: top;\n",
       "    }\n",
       "\n",
       "    .dataframe thead th {\n",
       "        text-align: right;\n",
       "    }\n",
       "</style>\n",
       "<table border=\"1\" class=\"dataframe\">\n",
       "  <thead>\n",
       "    <tr style=\"text-align: right;\">\n",
       "      <th></th>\n",
       "      <th>Vehicles</th>\n",
       "      <th>Average Speed (mph)</th>\n",
       "      <th>Accidents</th>\n",
       "    </tr>\n",
       "    <tr>\n",
       "      <th>TimeStamp</th>\n",
       "      <th></th>\n",
       "      <th></th>\n",
       "      <th></th>\n",
       "    </tr>\n",
       "  </thead>\n",
       "  <tbody>\n",
       "    <tr>\n",
       "      <th>2018-12-04 13:00:00</th>\n",
       "      <td>95.0</td>\n",
       "      <td>38.0</td>\n",
       "      <td>0.0</td>\n",
       "    </tr>\n",
       "    <tr>\n",
       "      <th>2018-12-04 14:00:00</th>\n",
       "      <td>90.0</td>\n",
       "      <td>32.0</td>\n",
       "      <td>1.0</td>\n",
       "    </tr>\n",
       "    <tr>\n",
       "      <th>2018-12-04 15:00:00</th>\n",
       "      <td>98.0</td>\n",
       "      <td>30.0</td>\n",
       "      <td>1.0</td>\n",
       "    </tr>\n",
       "    <tr>\n",
       "      <th>2018-12-04 16:00:00</th>\n",
       "      <td>98.0</td>\n",
       "      <td>26.0</td>\n",
       "      <td>3.0</td>\n",
       "    </tr>\n",
       "    <tr>\n",
       "      <th>2018-12-04 17:00:00</th>\n",
       "      <td>NaN</td>\n",
       "      <td>NaN</td>\n",
       "      <td>NaN</td>\n",
       "    </tr>\n",
       "    <tr>\n",
       "      <th>2018-12-04 18:00:00</th>\n",
       "      <td>NaN</td>\n",
       "      <td>NaN</td>\n",
       "      <td>NaN</td>\n",
       "    </tr>\n",
       "    <tr>\n",
       "      <th>2018-12-04 19:00:00</th>\n",
       "      <td>84.0</td>\n",
       "      <td>35.0</td>\n",
       "      <td>2.0</td>\n",
       "    </tr>\n",
       "    <tr>\n",
       "      <th>2018-12-04 20:00:00</th>\n",
       "      <td>82.0</td>\n",
       "      <td>40.0</td>\n",
       "      <td>0.0</td>\n",
       "    </tr>\n",
       "    <tr>\n",
       "      <th>2018-12-04 21:00:00</th>\n",
       "      <td>77.0</td>\n",
       "      <td>45.0</td>\n",
       "      <td>0.0</td>\n",
       "    </tr>\n",
       "    <tr>\n",
       "      <th>2018-12-04 22:00:00</th>\n",
       "      <td>93.0</td>\n",
       "      <td>45.0</td>\n",
       "      <td>1.0</td>\n",
       "    </tr>\n",
       "  </tbody>\n",
       "</table>\n",
       "</div>"
      ],
      "text/plain": [
       "                     Vehicles  Average Speed (mph)  Accidents\n",
       "TimeStamp                                                    \n",
       "2018-12-04 13:00:00      95.0                 38.0        0.0\n",
       "2018-12-04 14:00:00      90.0                 32.0        1.0\n",
       "2018-12-04 15:00:00      98.0                 30.0        1.0\n",
       "2018-12-04 16:00:00      98.0                 26.0        3.0\n",
       "2018-12-04 17:00:00       NaN                  NaN        NaN\n",
       "2018-12-04 18:00:00       NaN                  NaN        NaN\n",
       "2018-12-04 19:00:00      84.0                 35.0        2.0\n",
       "2018-12-04 20:00:00      82.0                 40.0        0.0\n",
       "2018-12-04 21:00:00      77.0                 45.0        0.0\n",
       "2018-12-04 22:00:00      93.0                 45.0        1.0"
      ]
     },
     "execution_count": 3,
     "metadata": {},
     "output_type": "execute_result"
    }
   ],
   "source": [
    "# Measurements taken at different times\n",
    "df"
   ]
  },
  {
   "cell_type": "code",
   "execution_count": 5,
   "metadata": {},
   "outputs": [
    {
     "data": {
      "text/html": [
       "<div>\n",
       "<style scoped>\n",
       "    .dataframe tbody tr th:only-of-type {\n",
       "        vertical-align: middle;\n",
       "    }\n",
       "\n",
       "    .dataframe tbody tr th {\n",
       "        vertical-align: top;\n",
       "    }\n",
       "\n",
       "    .dataframe thead th {\n",
       "        text-align: right;\n",
       "    }\n",
       "</style>\n",
       "<table border=\"1\" class=\"dataframe\">\n",
       "  <thead>\n",
       "    <tr style=\"text-align: right;\">\n",
       "      <th></th>\n",
       "      <th>Vehicles</th>\n",
       "      <th>Average Speed (mph)</th>\n",
       "      <th>Accidents</th>\n",
       "    </tr>\n",
       "    <tr>\n",
       "      <th>TimeStamp</th>\n",
       "      <th></th>\n",
       "      <th></th>\n",
       "      <th></th>\n",
       "    </tr>\n",
       "  </thead>\n",
       "  <tbody>\n",
       "    <tr>\n",
       "      <th>2018-12-04 13:00:00</th>\n",
       "      <td>95.0</td>\n",
       "      <td>38.0</td>\n",
       "      <td>0.0</td>\n",
       "    </tr>\n",
       "    <tr>\n",
       "      <th>2018-12-04 14:00:00</th>\n",
       "      <td>90.0</td>\n",
       "      <td>32.0</td>\n",
       "      <td>1.0</td>\n",
       "    </tr>\n",
       "    <tr>\n",
       "      <th>2018-12-04 15:00:00</th>\n",
       "      <td>98.0</td>\n",
       "      <td>30.0</td>\n",
       "      <td>1.0</td>\n",
       "    </tr>\n",
       "    <tr>\n",
       "      <th>2018-12-04 16:00:00</th>\n",
       "      <td>98.0</td>\n",
       "      <td>26.0</td>\n",
       "      <td>3.0</td>\n",
       "    </tr>\n",
       "    <tr>\n",
       "      <th>2018-12-04 19:00:00</th>\n",
       "      <td>84.0</td>\n",
       "      <td>35.0</td>\n",
       "      <td>2.0</td>\n",
       "    </tr>\n",
       "    <tr>\n",
       "      <th>2018-12-04 20:00:00</th>\n",
       "      <td>82.0</td>\n",
       "      <td>40.0</td>\n",
       "      <td>0.0</td>\n",
       "    </tr>\n",
       "    <tr>\n",
       "      <th>2018-12-04 21:00:00</th>\n",
       "      <td>77.0</td>\n",
       "      <td>45.0</td>\n",
       "      <td>0.0</td>\n",
       "    </tr>\n",
       "    <tr>\n",
       "      <th>2018-12-04 22:00:00</th>\n",
       "      <td>93.0</td>\n",
       "      <td>45.0</td>\n",
       "      <td>1.0</td>\n",
       "    </tr>\n",
       "  </tbody>\n",
       "</table>\n",
       "</div>"
      ],
      "text/plain": [
       "                     Vehicles  Average Speed (mph)  Accidents\n",
       "TimeStamp                                                    \n",
       "2018-12-04 13:00:00      95.0                 38.0        0.0\n",
       "2018-12-04 14:00:00      90.0                 32.0        1.0\n",
       "2018-12-04 15:00:00      98.0                 30.0        1.0\n",
       "2018-12-04 16:00:00      98.0                 26.0        3.0\n",
       "2018-12-04 19:00:00      84.0                 35.0        2.0\n",
       "2018-12-04 20:00:00      82.0                 40.0        0.0\n",
       "2018-12-04 21:00:00      77.0                 45.0        0.0\n",
       "2018-12-04 22:00:00      93.0                 45.0        1.0"
      ]
     },
     "execution_count": 5,
     "metadata": {},
     "output_type": "execute_result"
    }
   ],
   "source": [
    "# Remove NaN values\n",
    "df.dropna()"
   ]
  },
  {
   "cell_type": "code",
   "execution_count": 6,
   "metadata": {},
   "outputs": [
    {
     "data": {
      "text/plain": [
       "Vehicles               89.625\n",
       "Average Speed (mph)    36.375\n",
       "Accidents               1.000\n",
       "dtype: float64"
      ]
     },
     "execution_count": 6,
     "metadata": {},
     "output_type": "execute_result"
    }
   ],
   "source": [
    "# Mean values of numeric columns\n",
    "df.mean()"
   ]
  },
  {
   "cell_type": "code",
   "execution_count": 7,
   "metadata": {},
   "outputs": [
    {
     "data": {
      "image/png": "[encoded data removed]",
      "text/plain": [
       "<Figure size 720x216 with 1 Axes>"
      ]
     },
     "metadata": {
      "needs_background": "light"
     },
     "output_type": "display_data"
    }
   ],
   "source": [
    "# Let's visualize vehicles data\n",
    "# How does missing data show up?\n",
    "plt.figure(figsize=(10,3))\n",
    "plt.title('Vehicles')\n",
    "plt.plot(df['Vehicles'], label='target')\n",
    "plt.xticks(fontsize=14, rotation=45)\n",
    "plt.legend()\n",
    "plt.grid()"
   ]
  },
  {
   "cell_type": "code",
   "execution_count": 8,
   "metadata": {},
   "outputs": [
    {
     "data": {
      "image/png": "[encoded data removed]",
      "text/plain": [
       "<Figure size 720x216 with 1 Axes>"
      ]
     },
     "metadata": {
      "needs_background": "light"
     },
     "output_type": "display_data"
    }
   ],
   "source": [
    "# Replace missing values with zero\n",
    "\n",
    "plt.figure(figsize=(10,3))\n",
    "plt.title('Replace NaN with Zero')\n",
    "plt.plot(df['Vehicles'], label='target')\n",
    "\n",
    "# fillna to replace NaNs with provided value\n",
    "vehicles = df['Vehicles'].fillna(0)\n",
    "\n",
    "plt.plot(vehicles,ls='-.',alpha=0.8,label='zeroed')\n",
    "plt.xticks(fontsize=14, rotation=45)\n",
    "plt.legend()\n",
    "plt.grid()"
   ]
  },
  {
   "cell_type": "code",
   "execution_count": 9,
   "metadata": {},
   "outputs": [
    {
     "data": {
      "image/png": "[encoded data removed]",
      "text/plain": [
       "<Figure size 720x216 with 1 Axes>"
      ]
     },
     "metadata": {
      "needs_background": "light"
     },
     "output_type": "display_data"
    }
   ],
   "source": [
    "# Replace missing values with mean value for that attribute\n",
    "plt.figure(figsize=(10,3))\n",
    "plt.title('Replace NaN with Mean')\n",
    "plt.plot(df['Vehicles'], label='target')\n",
    "\n",
    "# fillna to replace NaNs with provided value\n",
    "vehicles = df['Vehicles'].fillna(df['Vehicles'].mean())\n",
    "\n",
    "plt.plot(vehicles,ls='-.',alpha=0.8,label='mean')\n",
    "plt.xticks(fontsize=14, rotation=45)\n",
    "plt.legend()\n",
    "plt.grid()"
   ]
  },
  {
   "cell_type": "code",
   "execution_count": 10,
   "metadata": {},
   "outputs": [
    {
     "data": {
      "image/png": "[encoded data removed]",
      "text/plain": [
       "<Figure size 720x216 with 1 Axes>"
      ]
     },
     "metadata": {
      "needs_background": "light"
     },
     "output_type": "display_data"
    }
   ],
   "source": [
    "# Replace missing values with interpolated value for that attribute\n",
    "plt.figure(figsize=(10,3))\n",
    "plt.title('Replace NaN with Interpolation')\n",
    "plt.plot(df['Vehicles'], label='target')\n",
    "\n",
    "vehicles = df['Vehicles'].interpolate()\n",
    "\n",
    "plt.plot(vehicles,ls='-.',alpha=0.8,label='mean')\n",
    "plt.xticks(fontsize=14, rotation=45)\n",
    "plt.legend()\n",
    "plt.grid()"
   ]
  },
  {
   "cell_type": "code",
   "execution_count": 11,
   "metadata": {},
   "outputs": [
    {
     "data": {
      "text/plain": [
       "TimeStamp\n",
       "2018-12-04 13:00:00    95.000000\n",
       "2018-12-04 14:00:00    90.000000\n",
       "2018-12-04 15:00:00    98.000000\n",
       "2018-12-04 16:00:00    98.000000\n",
       "2018-12-04 17:00:00    93.333333\n",
       "2018-12-04 18:00:00    88.666667\n",
       "2018-12-04 19:00:00    84.000000\n",
       "2018-12-04 20:00:00    82.000000\n",
       "2018-12-04 21:00:00    77.000000\n",
       "2018-12-04 22:00:00    93.000000\n",
       "Name: Vehicles, dtype: float64"
      ]
     },
     "execution_count": 11,
     "metadata": {},
     "output_type": "execute_result"
    }
   ],
   "source": [
    "vehicles"
   ]
  },
  {
   "cell_type": "code",
   "execution_count": 12,
   "metadata": {},
   "outputs": [
    {
     "data": {
      "image/png": "[encoded data removed]",
      "text/plain": [
       "<Figure size 720x216 with 1 Axes>"
      ]
     },
     "metadata": {
      "needs_background": "light"
     },
     "output_type": "display_data"
    }
   ],
   "source": [
    "# Replace missing values with previous valid value for that attribute\n",
    "plt.figure(figsize=(10,3))\n",
    "plt.title('Replace NaN with Forward Fill')\n",
    "plt.plot(df['Vehicles'], label='target')\n",
    "\n",
    "vehicles = df['Vehicles'].fillna(method='ffill')\n",
    "\n",
    "plt.plot(vehicles,ls='-.',alpha=0.8,label='forward fill')\n",
    "plt.xticks(fontsize=14, rotation=45)\n",
    "plt.legend()\n",
    "plt.grid()"
   ]
  },
  {
   "cell_type": "code",
   "execution_count": null,
   "metadata": {},
   "outputs": [],
   "source": [
    "vehicles"
   ]
  },
  {
   "cell_type": "code",
   "execution_count": 13,
   "metadata": {},
   "outputs": [
    {
     "data": {
      "image/png": "[encoded data removed]",
      "text/plain": [
       "<Figure size 720x216 with 1 Axes>"
      ]
     },
     "metadata": {
      "needs_background": "light"
     },
     "output_type": "display_data"
    }
   ],
   "source": [
    "# Replace missing values with next valid value for that attribute\n",
    "plt.figure(figsize=(10,3))\n",
    "plt.title('Replace NaN with Backward Fill')\n",
    "plt.plot(df['Vehicles'], label='target')\n",
    "\n",
    "vehicles = df['Vehicles'].fillna(method='bfill')\n",
    "\n",
    "plt.plot(vehicles,ls='-.',alpha=0.8,label='back fill')\n",
    "plt.xticks(fontsize=14, rotation=45)\n",
    "plt.legend()\n",
    "plt.grid()"
   ]
  },
  {
   "cell_type": "code",
   "execution_count": 14,
   "metadata": {},
   "outputs": [
    {
     "data": {
      "text/plain": [
       "TimeStamp\n",
       "2018-12-04 13:00:00    95.0\n",
       "2018-12-04 14:00:00    90.0\n",
       "2018-12-04 15:00:00    98.0\n",
       "2018-12-04 16:00:00    98.0\n",
       "2018-12-04 17:00:00    84.0\n",
       "2018-12-04 18:00:00    84.0\n",
       "2018-12-04 19:00:00    84.0\n",
       "2018-12-04 20:00:00    82.0\n",
       "2018-12-04 21:00:00    77.0\n",
       "2018-12-04 22:00:00    93.0\n",
       "Name: Vehicles, dtype: float64"
      ]
     },
     "execution_count": 14,
     "metadata": {},
     "output_type": "execute_result"
    }
   ],
   "source": [
    "vehicles"
   ]
  },
  {
   "cell_type": "code",
   "execution_count": 15,
   "metadata": {},
   "outputs": [
    {
     "data": {
      "text/html": [
       "<div>\n",
       "<style scoped>\n",
       "    .dataframe tbody tr th:only-of-type {\n",
       "        vertical-align: middle;\n",
       "    }\n",
       "\n",
       "    .dataframe tbody tr th {\n",
       "        vertical-align: top;\n",
       "    }\n",
       "\n",
       "    .dataframe thead th {\n",
       "        text-align: right;\n",
       "    }\n",
       "</style>\n",
       "<table border=\"1\" class=\"dataframe\">\n",
       "  <thead>\n",
       "    <tr style=\"text-align: right;\">\n",
       "      <th></th>\n",
       "      <th>Vehicles</th>\n",
       "      <th>Average Speed (mph)</th>\n",
       "      <th>Accidents</th>\n",
       "    </tr>\n",
       "    <tr>\n",
       "      <th>TimeStamp</th>\n",
       "      <th></th>\n",
       "      <th></th>\n",
       "      <th></th>\n",
       "    </tr>\n",
       "  </thead>\n",
       "  <tbody>\n",
       "    <tr>\n",
       "      <th>2018-12-04 13:00:00</th>\n",
       "      <td>95.0</td>\n",
       "      <td>38.0</td>\n",
       "      <td>0.0</td>\n",
       "    </tr>\n",
       "    <tr>\n",
       "      <th>2018-12-04 14:00:00</th>\n",
       "      <td>90.0</td>\n",
       "      <td>32.0</td>\n",
       "      <td>1.0</td>\n",
       "    </tr>\n",
       "    <tr>\n",
       "      <th>2018-12-04 15:00:00</th>\n",
       "      <td>98.0</td>\n",
       "      <td>30.0</td>\n",
       "      <td>1.0</td>\n",
       "    </tr>\n",
       "    <tr>\n",
       "      <th>2018-12-04 16:00:00</th>\n",
       "      <td>98.0</td>\n",
       "      <td>26.0</td>\n",
       "      <td>3.0</td>\n",
       "    </tr>\n",
       "    <tr>\n",
       "      <th>2018-12-04 17:00:00</th>\n",
       "      <td>NaN</td>\n",
       "      <td>NaN</td>\n",
       "      <td>NaN</td>\n",
       "    </tr>\n",
       "    <tr>\n",
       "      <th>2018-12-04 18:00:00</th>\n",
       "      <td>NaN</td>\n",
       "      <td>NaN</td>\n",
       "      <td>NaN</td>\n",
       "    </tr>\n",
       "    <tr>\n",
       "      <th>2018-12-04 19:00:00</th>\n",
       "      <td>84.0</td>\n",
       "      <td>35.0</td>\n",
       "      <td>2.0</td>\n",
       "    </tr>\n",
       "    <tr>\n",
       "      <th>2018-12-04 20:00:00</th>\n",
       "      <td>82.0</td>\n",
       "      <td>40.0</td>\n",
       "      <td>0.0</td>\n",
       "    </tr>\n",
       "    <tr>\n",
       "      <th>2018-12-04 21:00:00</th>\n",
       "      <td>77.0</td>\n",
       "      <td>45.0</td>\n",
       "      <td>0.0</td>\n",
       "    </tr>\n",
       "    <tr>\n",
       "      <th>2018-12-04 22:00:00</th>\n",
       "      <td>93.0</td>\n",
       "      <td>45.0</td>\n",
       "      <td>1.0</td>\n",
       "    </tr>\n",
       "  </tbody>\n",
       "</table>\n",
       "</div>"
      ],
      "text/plain": [
       "                     Vehicles  Average Speed (mph)  Accidents\n",
       "TimeStamp                                                    \n",
       "2018-12-04 13:00:00      95.0                 38.0        0.0\n",
       "2018-12-04 14:00:00      90.0                 32.0        1.0\n",
       "2018-12-04 15:00:00      98.0                 30.0        1.0\n",
       "2018-12-04 16:00:00      98.0                 26.0        3.0\n",
       "2018-12-04 17:00:00       NaN                  NaN        NaN\n",
       "2018-12-04 18:00:00       NaN                  NaN        NaN\n",
       "2018-12-04 19:00:00      84.0                 35.0        2.0\n",
       "2018-12-04 20:00:00      82.0                 40.0        0.0\n",
       "2018-12-04 21:00:00      77.0                 45.0        0.0\n",
       "2018-12-04 22:00:00      93.0                 45.0        1.0"
      ]
     },
     "execution_count": 15,
     "metadata": {},
     "output_type": "execute_result"
    }
   ],
   "source": [
    "df"
   ]
  },
  {
   "cell_type": "code",
   "execution_count": 16,
   "metadata": {},
   "outputs": [],
   "source": [
    "# Now that we know different ways of handling missing values\n",
    "# Let's pick an appropriate scheme for replacing missing values\n",
    "\n",
    "# Vehicles and Average Speed...interpolate\n",
    "df['Vehicles'] = df['Vehicles'].interpolate()\n",
    "df['Average Speed (mph)'] = df['Average Speed (mph)'].interpolate()\n",
    "# Accidents...interpolate or use mean values\n",
    "df['Accidents'] = df['Accidents'].fillna(df['Accidents'].mean())"
   ]
  },
  {
   "cell_type": "code",
   "execution_count": 17,
   "metadata": {},
   "outputs": [
    {
     "data": {
      "text/html": [
       "<div>\n",
       "<style scoped>\n",
       "    .dataframe tbody tr th:only-of-type {\n",
       "        vertical-align: middle;\n",
       "    }\n",
       "\n",
       "    .dataframe tbody tr th {\n",
       "        vertical-align: top;\n",
       "    }\n",
       "\n",
       "    .dataframe thead th {\n",
       "        text-align: right;\n",
       "    }\n",
       "</style>\n",
       "<table border=\"1\" class=\"dataframe\">\n",
       "  <thead>\n",
       "    <tr style=\"text-align: right;\">\n",
       "      <th></th>\n",
       "      <th>Vehicles</th>\n",
       "      <th>Average Speed (mph)</th>\n",
       "      <th>Accidents</th>\n",
       "    </tr>\n",
       "    <tr>\n",
       "      <th>TimeStamp</th>\n",
       "      <th></th>\n",
       "      <th></th>\n",
       "      <th></th>\n",
       "    </tr>\n",
       "  </thead>\n",
       "  <tbody>\n",
       "    <tr>\n",
       "      <th>2018-12-04 13:00:00</th>\n",
       "      <td>95.000000</td>\n",
       "      <td>38.0</td>\n",
       "      <td>0.0</td>\n",
       "    </tr>\n",
       "    <tr>\n",
       "      <th>2018-12-04 14:00:00</th>\n",
       "      <td>90.000000</td>\n",
       "      <td>32.0</td>\n",
       "      <td>1.0</td>\n",
       "    </tr>\n",
       "    <tr>\n",
       "      <th>2018-12-04 15:00:00</th>\n",
       "      <td>98.000000</td>\n",
       "      <td>30.0</td>\n",
       "      <td>1.0</td>\n",
       "    </tr>\n",
       "    <tr>\n",
       "      <th>2018-12-04 16:00:00</th>\n",
       "      <td>98.000000</td>\n",
       "      <td>26.0</td>\n",
       "      <td>3.0</td>\n",
       "    </tr>\n",
       "    <tr>\n",
       "      <th>2018-12-04 17:00:00</th>\n",
       "      <td>93.333333</td>\n",
       "      <td>29.0</td>\n",
       "      <td>1.0</td>\n",
       "    </tr>\n",
       "    <tr>\n",
       "      <th>2018-12-04 18:00:00</th>\n",
       "      <td>88.666667</td>\n",
       "      <td>32.0</td>\n",
       "      <td>1.0</td>\n",
       "    </tr>\n",
       "    <tr>\n",
       "      <th>2018-12-04 19:00:00</th>\n",
       "      <td>84.000000</td>\n",
       "      <td>35.0</td>\n",
       "      <td>2.0</td>\n",
       "    </tr>\n",
       "    <tr>\n",
       "      <th>2018-12-04 20:00:00</th>\n",
       "      <td>82.000000</td>\n",
       "      <td>40.0</td>\n",
       "      <td>0.0</td>\n",
       "    </tr>\n",
       "    <tr>\n",
       "      <th>2018-12-04 21:00:00</th>\n",
       "      <td>77.000000</td>\n",
       "      <td>45.0</td>\n",
       "      <td>0.0</td>\n",
       "    </tr>\n",
       "    <tr>\n",
       "      <th>2018-12-04 22:00:00</th>\n",
       "      <td>93.000000</td>\n",
       "      <td>45.0</td>\n",
       "      <td>1.0</td>\n",
       "    </tr>\n",
       "  </tbody>\n",
       "</table>\n",
       "</div>"
      ],
      "text/plain": [
       "                      Vehicles  Average Speed (mph)  Accidents\n",
       "TimeStamp                                                     \n",
       "2018-12-04 13:00:00  95.000000                 38.0        0.0\n",
       "2018-12-04 14:00:00  90.000000                 32.0        1.0\n",
       "2018-12-04 15:00:00  98.000000                 30.0        1.0\n",
       "2018-12-04 16:00:00  98.000000                 26.0        3.0\n",
       "2018-12-04 17:00:00  93.333333                 29.0        1.0\n",
       "2018-12-04 18:00:00  88.666667                 32.0        1.0\n",
       "2018-12-04 19:00:00  84.000000                 35.0        2.0\n",
       "2018-12-04 20:00:00  82.000000                 40.0        0.0\n",
       "2018-12-04 21:00:00  77.000000                 45.0        0.0\n",
       "2018-12-04 22:00:00  93.000000                 45.0        1.0"
      ]
     },
     "execution_count": 17,
     "metadata": {},
     "output_type": "execute_result"
    }
   ],
   "source": [
    "df"
   ]
  },
  {
   "cell_type": "markdown",
   "metadata": {},
   "source": [
    "<h3>Independent Data</h3>"
   ]
  },
  {
   "cell_type": "code",
   "execution_count": 18,
   "metadata": {},
   "outputs": [],
   "source": [
    "# Example of data that is not time dependent\n",
    "# Each row is independent\n",
    "df = pd.read_csv('VehicleTrafficRoads.csv', index_col=0)"
   ]
  },
  {
   "cell_type": "code",
   "execution_count": 19,
   "metadata": {
    "scrolled": true
   },
   "outputs": [
    {
     "data": {
      "text/html": [
       "<div>\n",
       "<style scoped>\n",
       "    .dataframe tbody tr th:only-of-type {\n",
       "        vertical-align: middle;\n",
       "    }\n",
       "\n",
       "    .dataframe tbody tr th {\n",
       "        vertical-align: top;\n",
       "    }\n",
       "\n",
       "    .dataframe thead th {\n",
       "        text-align: right;\n",
       "    }\n",
       "</style>\n",
       "<table border=\"1\" class=\"dataframe\">\n",
       "  <thead>\n",
       "    <tr style=\"text-align: right;\">\n",
       "      <th></th>\n",
       "      <th>Vehicles</th>\n",
       "      <th>Average Speed (mph)</th>\n",
       "      <th>Accidents</th>\n",
       "    </tr>\n",
       "    <tr>\n",
       "      <th>Road</th>\n",
       "      <th></th>\n",
       "      <th></th>\n",
       "      <th></th>\n",
       "    </tr>\n",
       "  </thead>\n",
       "  <tbody>\n",
       "    <tr>\n",
       "      <th>A</th>\n",
       "      <td>95.0</td>\n",
       "      <td>38.0</td>\n",
       "      <td>0.0</td>\n",
       "    </tr>\n",
       "    <tr>\n",
       "      <th>B</th>\n",
       "      <td>90.0</td>\n",
       "      <td>32.0</td>\n",
       "      <td>1.0</td>\n",
       "    </tr>\n",
       "    <tr>\n",
       "      <th>C</th>\n",
       "      <td>98.0</td>\n",
       "      <td>30.0</td>\n",
       "      <td>1.0</td>\n",
       "    </tr>\n",
       "    <tr>\n",
       "      <th>D</th>\n",
       "      <td>98.0</td>\n",
       "      <td>26.0</td>\n",
       "      <td>3.0</td>\n",
       "    </tr>\n",
       "    <tr>\n",
       "      <th>E</th>\n",
       "      <td>NaN</td>\n",
       "      <td>NaN</td>\n",
       "      <td>NaN</td>\n",
       "    </tr>\n",
       "    <tr>\n",
       "      <th>F</th>\n",
       "      <td>NaN</td>\n",
       "      <td>NaN</td>\n",
       "      <td>NaN</td>\n",
       "    </tr>\n",
       "    <tr>\n",
       "      <th>G</th>\n",
       "      <td>84.0</td>\n",
       "      <td>35.0</td>\n",
       "      <td>2.0</td>\n",
       "    </tr>\n",
       "    <tr>\n",
       "      <th>H</th>\n",
       "      <td>82.0</td>\n",
       "      <td>40.0</td>\n",
       "      <td>0.0</td>\n",
       "    </tr>\n",
       "    <tr>\n",
       "      <th>I</th>\n",
       "      <td>77.0</td>\n",
       "      <td>45.0</td>\n",
       "      <td>0.0</td>\n",
       "    </tr>\n",
       "    <tr>\n",
       "      <th>J</th>\n",
       "      <td>93.0</td>\n",
       "      <td>45.0</td>\n",
       "      <td>1.0</td>\n",
       "    </tr>\n",
       "  </tbody>\n",
       "</table>\n",
       "</div>"
      ],
      "text/plain": [
       "      Vehicles  Average Speed (mph)  Accidents\n",
       "Road                                          \n",
       "A         95.0                 38.0        0.0\n",
       "B         90.0                 32.0        1.0\n",
       "C         98.0                 30.0        1.0\n",
       "D         98.0                 26.0        3.0\n",
       "E          NaN                  NaN        NaN\n",
       "F          NaN                  NaN        NaN\n",
       "G         84.0                 35.0        2.0\n",
       "H         82.0                 40.0        0.0\n",
       "I         77.0                 45.0        0.0\n",
       "J         93.0                 45.0        1.0"
      ]
     },
     "execution_count": 19,
     "metadata": {},
     "output_type": "execute_result"
    }
   ],
   "source": [
    "df"
   ]
  },
  {
   "cell_type": "code",
   "execution_count": 20,
   "metadata": {},
   "outputs": [
    {
     "data": {
      "text/plain": [
       "Vehicles               89.625\n",
       "Average Speed (mph)    36.375\n",
       "Accidents               1.000\n",
       "dtype: float64"
      ]
     },
     "execution_count": 20,
     "metadata": {},
     "output_type": "execute_result"
    }
   ],
   "source": [
    "df.mean()"
   ]
  },
  {
   "cell_type": "code",
   "execution_count": 21,
   "metadata": {},
   "outputs": [
    {
     "data": {
      "text/html": [
       "<div>\n",
       "<style scoped>\n",
       "    .dataframe tbody tr th:only-of-type {\n",
       "        vertical-align: middle;\n",
       "    }\n",
       "\n",
       "    .dataframe tbody tr th {\n",
       "        vertical-align: top;\n",
       "    }\n",
       "\n",
       "    .dataframe thead th {\n",
       "        text-align: right;\n",
       "    }\n",
       "</style>\n",
       "<table border=\"1\" class=\"dataframe\">\n",
       "  <thead>\n",
       "    <tr style=\"text-align: right;\">\n",
       "      <th></th>\n",
       "      <th>Vehicles</th>\n",
       "      <th>Average Speed (mph)</th>\n",
       "      <th>Accidents</th>\n",
       "    </tr>\n",
       "    <tr>\n",
       "      <th>Road</th>\n",
       "      <th></th>\n",
       "      <th></th>\n",
       "      <th></th>\n",
       "    </tr>\n",
       "  </thead>\n",
       "  <tbody>\n",
       "    <tr>\n",
       "      <th>A</th>\n",
       "      <td>95.000</td>\n",
       "      <td>38.000</td>\n",
       "      <td>0.0</td>\n",
       "    </tr>\n",
       "    <tr>\n",
       "      <th>B</th>\n",
       "      <td>90.000</td>\n",
       "      <td>32.000</td>\n",
       "      <td>1.0</td>\n",
       "    </tr>\n",
       "    <tr>\n",
       "      <th>C</th>\n",
       "      <td>98.000</td>\n",
       "      <td>30.000</td>\n",
       "      <td>1.0</td>\n",
       "    </tr>\n",
       "    <tr>\n",
       "      <th>D</th>\n",
       "      <td>98.000</td>\n",
       "      <td>26.000</td>\n",
       "      <td>3.0</td>\n",
       "    </tr>\n",
       "    <tr>\n",
       "      <th>E</th>\n",
       "      <td>89.625</td>\n",
       "      <td>36.375</td>\n",
       "      <td>1.0</td>\n",
       "    </tr>\n",
       "    <tr>\n",
       "      <th>F</th>\n",
       "      <td>89.625</td>\n",
       "      <td>36.375</td>\n",
       "      <td>1.0</td>\n",
       "    </tr>\n",
       "    <tr>\n",
       "      <th>G</th>\n",
       "      <td>84.000</td>\n",
       "      <td>35.000</td>\n",
       "      <td>2.0</td>\n",
       "    </tr>\n",
       "    <tr>\n",
       "      <th>H</th>\n",
       "      <td>82.000</td>\n",
       "      <td>40.000</td>\n",
       "      <td>0.0</td>\n",
       "    </tr>\n",
       "    <tr>\n",
       "      <th>I</th>\n",
       "      <td>77.000</td>\n",
       "      <td>45.000</td>\n",
       "      <td>0.0</td>\n",
       "    </tr>\n",
       "    <tr>\n",
       "      <th>J</th>\n",
       "      <td>93.000</td>\n",
       "      <td>45.000</td>\n",
       "      <td>1.0</td>\n",
       "    </tr>\n",
       "  </tbody>\n",
       "</table>\n",
       "</div>"
      ],
      "text/plain": [
       "      Vehicles  Average Speed (mph)  Accidents\n",
       "Road                                          \n",
       "A       95.000               38.000        0.0\n",
       "B       90.000               32.000        1.0\n",
       "C       98.000               30.000        1.0\n",
       "D       98.000               26.000        3.0\n",
       "E       89.625               36.375        1.0\n",
       "F       89.625               36.375        1.0\n",
       "G       84.000               35.000        2.0\n",
       "H       82.000               40.000        0.0\n",
       "I       77.000               45.000        0.0\n",
       "J       93.000               45.000        1.0"
      ]
     },
     "execution_count": 21,
     "metadata": {},
     "output_type": "execute_result"
    }
   ],
   "source": [
    "# Substitute computed average of other rows\n",
    "# In this case, Rows E and F look identical\n",
    "# Data stored for Road E and F may not reflect reality\n",
    "\n",
    "df.fillna(df.mean())"
   ]
  },
  {
   "cell_type": "code",
   "execution_count": 22,
   "metadata": {},
   "outputs": [],
   "source": [
    "# Better option here is to simply drop NA rows\n",
    "# how = all Drop if all columns are NA\n",
    "# how = any Drop if any one of the columns contain NA\n",
    "df.dropna(how='all',inplace=True)"
   ]
  },
  {
   "cell_type": "code",
   "execution_count": 23,
   "metadata": {},
   "outputs": [
    {
     "data": {
      "text/html": [
       "<div>\n",
       "<style scoped>\n",
       "    .dataframe tbody tr th:only-of-type {\n",
       "        vertical-align: middle;\n",
       "    }\n",
       "\n",
       "    .dataframe tbody tr th {\n",
       "        vertical-align: top;\n",
       "    }\n",
       "\n",
       "    .dataframe thead th {\n",
       "        text-align: right;\n",
       "    }\n",
       "</style>\n",
       "<table border=\"1\" class=\"dataframe\">\n",
       "  <thead>\n",
       "    <tr style=\"text-align: right;\">\n",
       "      <th></th>\n",
       "      <th>Vehicles</th>\n",
       "      <th>Average Speed (mph)</th>\n",
       "      <th>Accidents</th>\n",
       "    </tr>\n",
       "    <tr>\n",
       "      <th>Road</th>\n",
       "      <th></th>\n",
       "      <th></th>\n",
       "      <th></th>\n",
       "    </tr>\n",
       "  </thead>\n",
       "  <tbody>\n",
       "    <tr>\n",
       "      <th>A</th>\n",
       "      <td>95.0</td>\n",
       "      <td>38.0</td>\n",
       "      <td>0.0</td>\n",
       "    </tr>\n",
       "    <tr>\n",
       "      <th>B</th>\n",
       "      <td>90.0</td>\n",
       "      <td>32.0</td>\n",
       "      <td>1.0</td>\n",
       "    </tr>\n",
       "    <tr>\n",
       "      <th>C</th>\n",
       "      <td>98.0</td>\n",
       "      <td>30.0</td>\n",
       "      <td>1.0</td>\n",
       "    </tr>\n",
       "    <tr>\n",
       "      <th>D</th>\n",
       "      <td>98.0</td>\n",
       "      <td>26.0</td>\n",
       "      <td>3.0</td>\n",
       "    </tr>\n",
       "    <tr>\n",
       "      <th>G</th>\n",
       "      <td>84.0</td>\n",
       "      <td>35.0</td>\n",
       "      <td>2.0</td>\n",
       "    </tr>\n",
       "    <tr>\n",
       "      <th>H</th>\n",
       "      <td>82.0</td>\n",
       "      <td>40.0</td>\n",
       "      <td>0.0</td>\n",
       "    </tr>\n",
       "    <tr>\n",
       "      <th>I</th>\n",
       "      <td>77.0</td>\n",
       "      <td>45.0</td>\n",
       "      <td>0.0</td>\n",
       "    </tr>\n",
       "    <tr>\n",
       "      <th>J</th>\n",
       "      <td>93.0</td>\n",
       "      <td>45.0</td>\n",
       "      <td>1.0</td>\n",
       "    </tr>\n",
       "  </tbody>\n",
       "</table>\n",
       "</div>"
      ],
      "text/plain": [
       "      Vehicles  Average Speed (mph)  Accidents\n",
       "Road                                          \n",
       "A         95.0                 38.0        0.0\n",
       "B         90.0                 32.0        1.0\n",
       "C         98.0                 30.0        1.0\n",
       "D         98.0                 26.0        3.0\n",
       "G         84.0                 35.0        2.0\n",
       "H         82.0                 40.0        0.0\n",
       "I         77.0                 45.0        0.0\n",
       "J         93.0                 45.0        1.0"
      ]
     },
     "execution_count": 23,
     "metadata": {},
     "output_type": "execute_result"
    }
   ],
   "source": [
    "df"
   ]
  },
  {
   "cell_type": "markdown",
   "metadata": {},
   "source": [
    "<h3>Impute Missing Values from Similar Data</h3>"
   ]
  },
  {
   "cell_type": "code",
   "execution_count": 24,
   "metadata": {},
   "outputs": [],
   "source": [
    "# Some instances have missing features\n",
    "# There are three types of plants: Iris-setosa, Iris-virginica, Iris-versicolor\n",
    "# In this case, we can find mean value of an attribute for each type of plant\n",
    "# and use it to substitute the missing values\n",
    "df = pd.read_csv('IrisMissingData.csv')"
   ]
  },
  {
   "cell_type": "code",
   "execution_count": null,
   "metadata": {},
   "outputs": [],
   "source": [
    "df"
   ]
  },
  {
   "cell_type": "code",
   "execution_count": null,
   "metadata": {},
   "outputs": [],
   "source": [
    "# Look for any columns that have NA\n",
    "df.isna().any(axis=0)"
   ]
  },
  {
   "cell_type": "code",
   "execution_count": null,
   "metadata": {},
   "outputs": [],
   "source": [
    "# Look for any rows that have NA\n",
    "rows_missing_values = df.isna().any(axis=1)"
   ]
  },
  {
   "cell_type": "code",
   "execution_count": null,
   "metadata": {},
   "outputs": [],
   "source": [
    "df[rows_missing_values]"
   ]
  },
  {
   "cell_type": "code",
   "execution_count": null,
   "metadata": {},
   "outputs": [],
   "source": [
    "# Find Summary Statistics for Each Class\n",
    "# Impute values based on class\n",
    "# https://stackoverflow.com/questions/19966018/pandas-filling-missing-values-by-mean-in-each-group\n",
    "group_class = df.groupby('class')"
   ]
  },
  {
   "cell_type": "code",
   "execution_count": null,
   "metadata": {},
   "outputs": [],
   "source": [
    "# First few rows of each group\n",
    "group_class.head(2)"
   ]
  },
  {
   "cell_type": "code",
   "execution_count": null,
   "metadata": {},
   "outputs": [],
   "source": [
    "# Attribute Mean value is different for each group\n",
    "group_class.mean()"
   ]
  },
  {
   "cell_type": "code",
   "execution_count": null,
   "metadata": {},
   "outputs": [],
   "source": [
    "# Compared to mean value for entire dataset\n",
    "df.mean()"
   ]
  },
  {
   "cell_type": "code",
   "execution_count": null,
   "metadata": {},
   "outputs": [],
   "source": [
    "# For each group, use group level averages to fill missing values\n",
    "df['sepal_length'] = group_class['sepal_length'].transform(lambda x: x.fillna(x.mean()))\n",
    "df['sepal_width'] = group_class['sepal_width'].transform(lambda x: x.fillna(x.mean()))\n",
    "df['petal_length'] = group_class['petal_length'].transform(lambda x: x.fillna(x.mean()))\n",
    "df['petal_width'] = group_class['petal_width'].transform(lambda x: x.fillna(x.mean()))"
   ]
  },
  {
   "cell_type": "code",
   "execution_count": null,
   "metadata": {},
   "outputs": [],
   "source": [
    "# Let's now check the rows that had missing values\n",
    "df[rows_missing_values]"
   ]
  },
  {
   "cell_type": "code",
   "execution_count": null,
   "metadata": {},
   "outputs": [],
   "source": []
  }
 ],
 "metadata": {
  "kernelspec": {
   "display_name": "Python 3",
   "language": "python",
   "name": "python3"
  },
  "language_info": {
   "codemirror_mode": {
    "name": "ipython",
    "version": 3
   },
   "file_extension": ".py",
   "mimetype": "text/x-python",
   "name": "python",
   "nbconvert_exporter": "python",
   "pygments_lexer": "ipython3",
   "version": "3.8.8"
  }
 },
 "nbformat": 4,
 "nbformat_minor": 2
}
